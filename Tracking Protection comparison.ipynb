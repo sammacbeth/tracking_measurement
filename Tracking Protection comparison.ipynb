{
 "cells": [
  {
   "cell_type": "code",
   "execution_count": 1,
   "metadata": {
    "collapsed": false
   },
   "outputs": [
    {
     "name": "stdout",
     "output_type": "stream",
     "text": [
      "Populating the interactive namespace from numpy and matplotlib\n"
     ]
    }
   ],
   "source": [
    "%pylab inline\n",
    "import openwpm\n",
    "from spark_uid import *"
   ]
  },
  {
   "cell_type": "markdown",
   "metadata": {},
   "source": [
    "## Load crawl db"
   ]
  },
  {
   "cell_type": "code",
   "execution_count": 2,
   "metadata": {
    "collapsed": false
   },
   "outputs": [
    {
     "name": "stdout",
     "output_type": "stream",
     "text": [
      "1 {'tp_cookies': 'always', 'https-everywhere': False, 'cliqz': False, 'privacy-badger': False, 'adblock-plus': False, 'ghostery': False, 'donottrack': False}\n",
      "urls crawled: 788\n",
      "2 {'tp_cookies': 'always', 'https-everywhere': False, 'cliqz': True, 'privacy-badger': False, 'adblock-plus': False, 'ghostery': False, 'donottrack': False}\n",
      "urls crawled: 787\n",
      "3 {'tp_cookies': 'always', 'https-everywhere': False, 'cliqz': False, 'privacy-badger': False, 'adblock-plus': False, 'ghostery': True, 'donottrack': False}\n",
      "urls crawled: 788\n"
     ]
    }
   ],
   "source": [
    "openwpm_log_dir = '/Users/sammacbeth/data/openwpm/crawl_20170309/'\n",
    "crawldb = openwpm.load_crawl_db(openwpm_log_dir)\n",
    "crawls = {}\n",
    "for cid, params in openwpm.get_crawls(crawldb):\n",
    "    crawls[cid] = {\n",
    "        \"config\": openwpm.filtered_config(params),\n",
    "        \"urls\": openwpm.get_crawled_urls(crawldb, cid)\n",
    "    }\n",
    "    print(cid, crawls[cid][\"config\"])\n",
    "    print('urls crawled:', len(crawls[cid][\"urls\"]))"
   ]
  },
  {
   "cell_type": "markdown",
   "metadata": {},
   "source": [
    "## Load request data"
   ]
  },
  {
   "cell_type": "code",
   "execution_count": 3,
   "metadata": {
    "collapsed": false
   },
   "outputs": [],
   "source": [
    "crawl_ids = crawls.keys()\n",
    "\n",
    "def sanitise_request_obj(req):\n",
    "    req['found_urls'] = list(req['found_urls'])\n",
    "    return req\n",
    "\n",
    "def load_requests(crawl_id):\n",
    "    return load_mitm_data(sc, input_dir=openwpm_log_dir + str(crawl_id) + '/').map(sanitise_request_obj)\n",
    "\n",
    "crawl_requests = {k: load_requests(k) for k in crawl_ids}"
   ]
  },
  {
   "cell_type": "markdown",
   "metadata": {},
   "source": [
    "### Compare number of requests for each crawl"
   ]
  },
  {
   "cell_type": "code",
   "execution_count": 4,
   "metadata": {
    "collapsed": false
   },
   "outputs": [
    {
     "data": {
      "text/plain": [
       "{1: 45245, 2: 26301, 3: 41044}"
      ]
     },
     "execution_count": 4,
     "metadata": {},
     "output_type": "execute_result"
    }
   ],
   "source": [
    "{k: req.count() for k, req in crawl_requests.items()}"
   ]
  },
  {
   "cell_type": "code",
   "execution_count": 5,
   "metadata": {
    "collapsed": false
   },
   "outputs": [
    {
     "data": {
      "text/plain": [
       "{1: 684.4185161590576, 2: 637.5861310958862, 3: 1020.6599559783936}"
      ]
     },
     "execution_count": 5,
     "metadata": {},
     "output_type": "execute_result"
    }
   ],
   "source": [
    "def get_response_header(req, header):\n",
    "    cl_headers = [h[1] for h in filter(lambda h: h[0] == header, req.get('res_headers', []))]\n",
    "    return cl_headers[0] if len(cl_headers) > 0 else None\n",
    "\n",
    "def get_content_length(req):\n",
    "    cl = get_response_header(req, \"Content-Length\")\n",
    "    if cl is not None:\n",
    "        return int(cl) / 1048576.\n",
    "    else:\n",
    "        return 0\n",
    "\n",
    "{k: req.map(get_content_length).sum() for k, req in crawl_requests.items()}"
   ]
  },
  {
   "cell_type": "markdown",
   "metadata": {},
   "source": [
    "### Check that we actually saw requests to the crawl URLS (i.e. the proxy was working correctly)"
   ]
  },
  {
   "cell_type": "code",
   "execution_count": 6,
   "metadata": {
    "collapsed": false
   },
   "outputs": [
    {
     "data": {
      "text/plain": [
       "{1: 450, 2: 215, 3: 626}"
      ]
     },
     "execution_count": 6,
     "metadata": {},
     "output_type": "execute_result"
    }
   ],
   "source": [
    "from urllib.parse import urlparse\n",
    "\n",
    "def crawl_url_occurance(requests, crawl_urls):\n",
    "    crawl_hosts = set([urlparse(u).netloc for u in crawl_urls])\n",
    "    return requests.map(lambda r: r['host']).filter(lambda h: h in crawl_hosts).distinct().count()\n",
    "\n",
    "{cid: crawl_url_occurance(crawl_requests[cid], crawls[cid][\"urls\"][\"site_url\"]) for cid in crawl_ids}"
   ]
  },
  {
   "cell_type": "markdown",
   "metadata": {},
   "source": [
    "### Request count per domain"
   ]
  },
  {
   "cell_type": "code",
   "execution_count": 7,
   "metadata": {
    "collapsed": false
   },
   "outputs": [],
   "source": [
    "# requests by host\n",
    "import pandas as pd\n",
    "from operator import add, itemgetter\n",
    "\n",
    "def requests_by_host(i):\n",
    "    return crawl_requests[i].map(lambda r: (r['host'], 1)).reduceByKey(add).mapValues(lambda v: {i: v})\n",
    "\n",
    "def merge_dicts(a, b):\n",
    "    a.update(b)\n",
    "    return a\n",
    "\n",
    "rows = sc.union([requests_by_host(cid) for cid in crawl_ids])\\\n",
    "    .reduceByKey(lambda a, b: merge_dicts(a, b)).sortBy(lambda x: sum(list(x[1].values())), ascending=False)\\\n",
    "    .map(lambda row: {\"domain\": row[0], **row[1]}).take(30)"
   ]
  },
  {
   "cell_type": "code",
   "execution_count": 8,
   "metadata": {
    "collapsed": false
   },
   "outputs": [
    {
     "data": {
      "text/plain": [
       "<matplotlib.axes._subplots.AxesSubplot at 0x1075ff710>"
      ]
     },
     "execution_count": 8,
     "metadata": {},
     "output_type": "execute_result"
    },
    {
     "data": {
      "text/plain": [
       "<matplotlib.figure.Figure at 0x1055e7438>"
      ]
     },
     "metadata": {},
     "output_type": "display_data"
    },
    {
     "data": {
      "image/png": "[encoded data removed]",
      "text/plain": [
       "<matplotlib.figure.Figure at 0x1075f1668>"
      ]
     },
     "metadata": {},
     "output_type": "display_data"
    }
   ],
   "source": [
    "from pylab import rcParams\n",
    "rcParams['figure.figsize'] = 10, 10\n",
    "plt.figure(figsize=(200,100))\n",
    "df = pd.DataFrame({'crawl_{}'.format(k): [r[k] if k in r else 0 for r in rows] for k in crawl_ids}, index=[r['domain'] for r in rows])\n",
    "df.plot.barh()"
   ]
  },
  {
   "cell_type": "markdown",
   "metadata": {},
   "source": [
    "### Request size per domain"
   ]
  },
  {
   "cell_type": "code",
   "execution_count": 9,
   "metadata": {
    "collapsed": false
   },
   "outputs": [],
   "source": [
    "def size_by_host(i):\n",
    "    return crawl_requests[i].map(lambda r: (r['host'], get_content_length(r))).reduceByKey(add).mapValues(lambda v: {i: v})\n",
    "\n",
    "rows = sc.union([size_by_host(cid) for cid in crawl_ids])\\\n",
    "    .reduceByKey(lambda a, b: merge_dicts(a, b)).sortBy(lambda x: sum(list(x[1].values())), ascending=False)\\\n",
    "    .map(lambda row: {\"domain\": row[0], **row[1]}).take(30)"
   ]
  },
  {
   "cell_type": "code",
   "execution_count": 10,
   "metadata": {
    "collapsed": false
   },
   "outputs": [
    {
     "data": {
      "text/plain": [
       "<matplotlib.axes._subplots.AxesSubplot at 0x1075f1278>"
      ]
     },
     "execution_count": 10,
     "metadata": {},
     "output_type": "execute_result"
    },
    {
     "data": {
      "text/plain": [
       "<matplotlib.figure.Figure at 0x1075e8e48>"
      ]
     },
     "metadata": {},
     "output_type": "display_data"
    },
    {
     "data": {
      "image/png": "[encoded data removed]",
      "text/plain": [
       "<matplotlib.figure.Figure at 0x10752ed30>"
      ]
     },
     "metadata": {},
     "output_type": "display_data"
    }
   ],
   "source": [
    "from pylab import rcParams\n",
    "rcParams['figure.figsize'] = 10, 10\n",
    "plt.figure(figsize=(200,100))\n",
    "df = pd.DataFrame({'crawl_{}'.format(k): [r[k] if k in r else 0 for r in rows] for k in crawl_ids}, index=[r['domain'] for r in rows])\n",
    "df.plot.barh()"
   ]
  },
  {
   "cell_type": "markdown",
   "metadata": {},
   "source": [
    "## Look for UIDs"
   ]
  },
  {
   "cell_type": "code",
   "execution_count": 11,
   "metadata": {
    "collapsed": true
   },
   "outputs": [],
   "source": [
    "def get_crawled_urls(cid):\n",
    "    crawl_list = set(crawls[cid][\"urls\"][\"site_url\"])\n",
    "    urls = set([\"{}/\".format(u) for u in crawl_list if u[-1] != '/'] + list(crawl_list))\n",
    "    redirected_urls = crawl_requests[cid].filter(lambda r: r['url'] in urls).filter(lambda r: r[\"res_status\"] > 300)\\\n",
    "        .map(lambda r: get_response_header(r, \"Location\")).filter(lambda u: u is not None).collect()\n",
    "    return urls.union(redirected_urls)"
   ]
  },
  {
   "cell_type": "code",
   "execution_count": 12,
   "metadata": {
    "collapsed": false
   },
   "outputs": [],
   "source": [
    "def analyse(requests, visited):\n",
    "    linked = link_requests_by_uid(requests).cache()\n",
    "    uid_reach = calculate_uid_reach(requests, linked)\n",
    "    return uid_reach_as_dataframes(uid_reach, sqlContext, visited_domains=visited)\n",
    "\n",
    "analysed_crawls = {cid: analyse(crawl_requests[cid], \n",
    "                           set([urlparse(u).netloc for u in crawls[cid][\"urls\"][\"site_url\"]])) for cid in crawl_ids}"
   ]
  },
  {
   "cell_type": "code",
   "execution_count": 13,
   "metadata": {
    "collapsed": false
   },
   "outputs": [],
   "source": [
    "from urllib.parse import unquote\n",
    "from pyspark.sql.functions import udf, col\n",
    "from pyspark.sql.types import StringType\n",
    "\n",
    "def reduce_uids(rows):\n",
    "    combi_qs = [\"{}={}\".format(r.key, r.value) for r in rows]\n",
    "    return len(combi_qs), '&'.join(combi_qs)\n",
    "\n",
    "def get_reduced_tracking_list(cid):\n",
    "    # get full list of urls visited in the crawl\n",
    "    crawled_urls = get_crawled_urls(cid)\n",
    "    \n",
    "    # create udf to check if a url was crawled\n",
    "    def contains_crawled_url(url):\n",
    "        decoded_url = unquote(url)\n",
    "        for curl in crawled_urls:\n",
    "            if curl in url or curl in decoded_url:\n",
    "                return curl\n",
    "        return None\n",
    "    \n",
    "    is_crawl_url = udf(contains_crawled_url, StringType())\n",
    "    # this is the table of urls from the crawl we found for each uid\n",
    "    bad_uniques = analysed_crawls[cid][\"uniques_seen\"]\\\n",
    "        .withColumn('crawl_url', is_crawl_url(analysed_crawls[cid][\"uniques_seen\"].url))\\\n",
    "        .where(col('crawl_url').isNotNull())\n",
    "    \n",
    "    # these are key/value pairs classified as uids by the analysis\n",
    "    bad_uids = sqlContext.createDataFrame(analysed_crawls[cid][\"uid_parts\"]\\\n",
    "        .where('classification = \"uid\"').sort('key').rdd.map(lambda row: (row.uid_id, row))\\\n",
    "        .groupByKey().mapValues(reduce_uids)\\\n",
    "        .map(lambda t: Row(uid_id=t[0], uid_length=t[1][0], bad_uid=t[1][1])))\n",
    "    \n",
    "    # count session size seen by each uid\n",
    "    uniques = bad_uniques.select('uid_id', 'crawl_url').distinct().groupBy('uid_id').count()\\\n",
    "        .withColumnRenamed('count', 'session_size')\n",
    "        \n",
    "    # add extra tables to crawls data\n",
    "    analysed_crawls[cid][\"bad_uniques\"] = bad_uniques\n",
    "    analysed_crawls[cid][\"bad_uids\"] = bad_uids\n",
    "        \n",
    "    # join everything to get the master uid table\n",
    "    master_uids = analysed_crawls[cid][\"uid\"].join(bad_uids, 'uid_id')\\\n",
    "        .join(uniques, 'uid_id')\\\n",
    "        .where('uid_length > 0').where('session_size > 0')\n",
    "    # finally, dedup repeated entries\n",
    "    return master_uids.sort('session_size', ascending=False).dropDuplicates(['domain', 'bad_uid'])\\\n",
    "        .sort('session_size', ascending=False).cache()\n",
    "        \n",
    "uid_rankings = {cid: get_reduced_tracking_list(cid) for cid in crawl_ids}"
   ]
  },
  {
   "cell_type": "code",
   "execution_count": 17,
   "metadata": {
    "collapsed": false
   },
   "outputs": [
    {
     "data": {
      "text/html": [
       "<div>\n",
       "<table border=\"1\" class=\"dataframe\">\n",
       "  <thead>\n",
       "    <tr style=\"text-align: right;\">\n",
       "      <th></th>\n",
       "      <th>domain</th>\n",
       "      <th>duration</th>\n",
       "      <th>uid_id</th>\n",
       "      <th>uid_length</th>\n",
       "      <th>bad_uid</th>\n",
       "      <th>session_size</th>\n",
       "    </tr>\n",
       "  </thead>\n",
       "  <tbody>\n",
       "    <tr>\n",
       "      <th>0</th>\n",
       "      <td>doubleclick.net</td>\n",
       "      <td>7.167621</td>\n",
       "      <td>20248</td>\n",
       "      <td>2</td>\n",
       "      <td>IDE=AHWqTUmGqThkoptV4noxJvFW-KPXgWRpOi2I-MF4JU...</td>\n",
       "      <td>237</td>\n",
       "    </tr>\n",
       "    <tr>\n",
       "      <th>1</th>\n",
       "      <td>doubleclick.net</td>\n",
       "      <td>7.005838</td>\n",
       "      <td>4107</td>\n",
       "      <td>3</td>\n",
       "      <td>DSID=NO_DATA&amp;IDE=AHWqTUmGqThkoptV4noxJvFW-KPXg...</td>\n",
       "      <td>209</td>\n",
       "    </tr>\n",
       "    <tr>\n",
       "      <th>2</th>\n",
       "      <td>google.com</td>\n",
       "      <td>6.876170</td>\n",
       "      <td>18812</td>\n",
       "      <td>1</td>\n",
       "      <td>NID=98=Xi1tTvl5CF9GCsXEzZ_HNyQJULOyPCijWw4MwRL...</td>\n",
       "      <td>189</td>\n",
       "    </tr>\n",
       "    <tr>\n",
       "      <th>3</th>\n",
       "      <td>google-analytics.com</td>\n",
       "      <td>7.034842</td>\n",
       "      <td>12087</td>\n",
       "      <td>1</td>\n",
       "      <td>vp=1350x697</td>\n",
       "      <td>161</td>\n",
       "    </tr>\n",
       "    <tr>\n",
       "      <th>4</th>\n",
       "      <td>doubleclick.net</td>\n",
       "      <td>5.671558</td>\n",
       "      <td>10688</td>\n",
       "      <td>3</td>\n",
       "      <td>IDE=AHWqTUmGqThkoptV4noxJvFW-KPXgWRpOi2I-MF4JU...</td>\n",
       "      <td>146</td>\n",
       "    </tr>\n",
       "    <tr>\n",
       "      <th>5</th>\n",
       "      <td>facebook.com</td>\n",
       "      <td>6.884681</td>\n",
       "      <td>19146</td>\n",
       "      <td>1</td>\n",
       "      <td>fr=0vIgopa35dLwoZOZ2..BYv-cB...1.0.BYv-cB.</td>\n",
       "      <td>123</td>\n",
       "    </tr>\n",
       "    <tr>\n",
       "      <th>6</th>\n",
       "      <td>googlesyndication.com</td>\n",
       "      <td>6.614457</td>\n",
       "      <td>15949</td>\n",
       "      <td>1</td>\n",
       "      <td>__gads=ID=369f0d0524b139cf:T=1488973402:S=ALNI...</td>\n",
       "      <td>100</td>\n",
       "    </tr>\n",
       "    <tr>\n",
       "      <th>7</th>\n",
       "      <td>ioam.de</td>\n",
       "      <td>7.248672</td>\n",
       "      <td>5937</td>\n",
       "      <td>1</td>\n",
       "      <td>id=gc5lmf</td>\n",
       "      <td>85</td>\n",
       "    </tr>\n",
       "    <tr>\n",
       "      <th>8</th>\n",
       "      <td>adnxs.com</td>\n",
       "      <td>7.147455</td>\n",
       "      <td>14004</td>\n",
       "      <td>1</td>\n",
       "      <td>uuid2=1534007364624019147</td>\n",
       "      <td>70</td>\n",
       "    </tr>\n",
       "    <tr>\n",
       "      <th>9</th>\n",
       "      <td>google-analytics.com</td>\n",
       "      <td>7.143974</td>\n",
       "      <td>14061</td>\n",
       "      <td>1</td>\n",
       "      <td>utmwv=5.6.8</td>\n",
       "      <td>66</td>\n",
       "    </tr>\n",
       "    <tr>\n",
       "      <th>10</th>\n",
       "      <td>theadex.com</td>\n",
       "      <td>7.093075</td>\n",
       "      <td>8859</td>\n",
       "      <td>1</td>\n",
       "      <td>axd=1001512771211570107</td>\n",
       "      <td>53</td>\n",
       "    </tr>\n",
       "    <tr>\n",
       "      <th>11</th>\n",
       "      <td>doubleclick.net</td>\n",
       "      <td>6.852067</td>\n",
       "      <td>2497</td>\n",
       "      <td>3</td>\n",
       "      <td>IDE=AHWqTUmGqThkoptV4noxJvFW-KPXgWRpOi2I-MF4JU...</td>\n",
       "      <td>52</td>\n",
       "    </tr>\n",
       "    <tr>\n",
       "      <th>12</th>\n",
       "      <td>googlesyndication.com</td>\n",
       "      <td>7.009306</td>\n",
       "      <td>10036</td>\n",
       "      <td>1</td>\n",
       "      <td>bs=1350,697</td>\n",
       "      <td>52</td>\n",
       "    </tr>\n",
       "    <tr>\n",
       "      <th>13</th>\n",
       "      <td>theadex.com</td>\n",
       "      <td>7.009746</td>\n",
       "      <td>19919</td>\n",
       "      <td>2</td>\n",
       "      <td>axd=1001512771211570107&amp;c=1001512771211570107</td>\n",
       "      <td>51</td>\n",
       "    </tr>\n",
       "    <tr>\n",
       "      <th>14</th>\n",
       "      <td>adition.com</td>\n",
       "      <td>7.014663</td>\n",
       "      <td>18116</td>\n",
       "      <td>1</td>\n",
       "      <td>UserID1=6395083970203809818</td>\n",
       "      <td>50</td>\n",
       "    </tr>\n",
       "    <tr>\n",
       "      <th>15</th>\n",
       "      <td>xplosion.de</td>\n",
       "      <td>7.084311</td>\n",
       "      <td>15587</td>\n",
       "      <td>4</td>\n",
       "      <td>ep=WL_m-rhISaNHuJhtMuO_&amp;pid=BS_3EibFBSa-WiBAWi...</td>\n",
       "      <td>49</td>\n",
       "    </tr>\n",
       "    <tr>\n",
       "      <th>16</th>\n",
       "      <td>google-analytics.com</td>\n",
       "      <td>7.107667</td>\n",
       "      <td>1731</td>\n",
       "      <td>2</td>\n",
       "      <td>utmvp=1350x697&amp;utmwv=5.6.8</td>\n",
       "      <td>48</td>\n",
       "    </tr>\n",
       "    <tr>\n",
       "      <th>17</th>\n",
       "      <td>xplosion.de</td>\n",
       "      <td>7.037888</td>\n",
       "      <td>7583</td>\n",
       "      <td>14</td>\n",
       "      <td>ep=WL_m-rhISaNHuJhtMuO_&amp;ignore_49351_146591999...</td>\n",
       "      <td>40</td>\n",
       "    </tr>\n",
       "    <tr>\n",
       "      <th>18</th>\n",
       "      <td>twitter.com</td>\n",
       "      <td>6.287924</td>\n",
       "      <td>3074</td>\n",
       "      <td>1</td>\n",
       "      <td>guest_id=v1%3A148897295469552225</td>\n",
       "      <td>40</td>\n",
       "    </tr>\n",
       "    <tr>\n",
       "      <th>19</th>\n",
       "      <td>xplosion.de</td>\n",
       "      <td>7.024246</td>\n",
       "      <td>18842</td>\n",
       "      <td>26</td>\n",
       "      <td>ep=WL_m-rhISaNHuJhtMuO_&amp;ignore_22970_146591999...</td>\n",
       "      <td>39</td>\n",
       "    </tr>\n",
       "  </tbody>\n",
       "</table>\n",
       "</div>"
      ],
      "text/plain": [
       "                   domain  duration  uid_id  uid_length  \\\n",
       "0         doubleclick.net  7.167621   20248           2   \n",
       "1         doubleclick.net  7.005838    4107           3   \n",
       "2              google.com  6.876170   18812           1   \n",
       "3    google-analytics.com  7.034842   12087           1   \n",
       "4         doubleclick.net  5.671558   10688           3   \n",
       "5            facebook.com  6.884681   19146           1   \n",
       "6   googlesyndication.com  6.614457   15949           1   \n",
       "7                 ioam.de  7.248672    5937           1   \n",
       "8               adnxs.com  7.147455   14004           1   \n",
       "9    google-analytics.com  7.143974   14061           1   \n",
       "10            theadex.com  7.093075    8859           1   \n",
       "11        doubleclick.net  6.852067    2497           3   \n",
       "12  googlesyndication.com  7.009306   10036           1   \n",
       "13            theadex.com  7.009746   19919           2   \n",
       "14            adition.com  7.014663   18116           1   \n",
       "15            xplosion.de  7.084311   15587           4   \n",
       "16   google-analytics.com  7.107667    1731           2   \n",
       "17            xplosion.de  7.037888    7583          14   \n",
       "18            twitter.com  6.287924    3074           1   \n",
       "19            xplosion.de  7.024246   18842          26   \n",
       "\n",
       "                                              bad_uid  session_size  \n",
       "0   IDE=AHWqTUmGqThkoptV4noxJvFW-KPXgWRpOi2I-MF4JU...           237  \n",
       "1   DSID=NO_DATA&IDE=AHWqTUmGqThkoptV4noxJvFW-KPXg...           209  \n",
       "2   NID=98=Xi1tTvl5CF9GCsXEzZ_HNyQJULOyPCijWw4MwRL...           189  \n",
       "3                                         vp=1350x697           161  \n",
       "4   IDE=AHWqTUmGqThkoptV4noxJvFW-KPXgWRpOi2I-MF4JU...           146  \n",
       "5          fr=0vIgopa35dLwoZOZ2..BYv-cB...1.0.BYv-cB.           123  \n",
       "6   __gads=ID=369f0d0524b139cf:T=1488973402:S=ALNI...           100  \n",
       "7                                           id=gc5lmf            85  \n",
       "8                           uuid2=1534007364624019147            70  \n",
       "9                                         utmwv=5.6.8            66  \n",
       "10                            axd=1001512771211570107            53  \n",
       "11  IDE=AHWqTUmGqThkoptV4noxJvFW-KPXgWRpOi2I-MF4JU...            52  \n",
       "12                                        bs=1350,697            52  \n",
       "13      axd=1001512771211570107&c=1001512771211570107            51  \n",
       "14                        UserID1=6395083970203809818            50  \n",
       "15  ep=WL_m-rhISaNHuJhtMuO_&pid=BS_3EibFBSa-WiBAWi...            49  \n",
       "16                         utmvp=1350x697&utmwv=5.6.8            48  \n",
       "17  ep=WL_m-rhISaNHuJhtMuO_&ignore_49351_146591999...            40  \n",
       "18                   guest_id=v1%3A148897295469552225            40  \n",
       "19  ep=WL_m-rhISaNHuJhtMuO_&ignore_22970_146591999...            39  "
      ]
     },
     "execution_count": 17,
     "metadata": {},
     "output_type": "execute_result"
    }
   ],
   "source": [
    "uid_rankings[1].where('session_size > 5')\\\n",
    "    .select('domain', 'duration', 'uid_id', 'uid_length', 'bad_uid', 'session_size').toPandas()[:20]"
   ]
  },
  {
   "cell_type": "code",
   "execution_count": 18,
   "metadata": {
    "collapsed": false
   },
   "outputs": [
    {
     "data": {
      "text/html": [
       "<div>\n",
       "<table border=\"1\" class=\"dataframe\">\n",
       "  <thead>\n",
       "    <tr style=\"text-align: right;\">\n",
       "      <th></th>\n",
       "      <th>domain</th>\n",
       "      <th>duration</th>\n",
       "      <th>uid_id</th>\n",
       "      <th>uid_length</th>\n",
       "      <th>bad_uid</th>\n",
       "      <th>session_size</th>\n",
       "    </tr>\n",
       "  </thead>\n",
       "  <tbody>\n",
       "    <tr>\n",
       "      <th>0</th>\n",
       "      <td>google-analytics.com</td>\n",
       "      <td>6.986901</td>\n",
       "      <td>1523</td>\n",
       "      <td>1</td>\n",
       "      <td>vp=1350x704</td>\n",
       "      <td>39</td>\n",
       "    </tr>\n",
       "    <tr>\n",
       "      <th>1</th>\n",
       "      <td>ioam.de</td>\n",
       "      <td>7.121925</td>\n",
       "      <td>6361</td>\n",
       "      <td>1</td>\n",
       "      <td>id=gc5lmf</td>\n",
       "      <td>31</td>\n",
       "    </tr>\n",
       "    <tr>\n",
       "      <th>2</th>\n",
       "      <td>google-analytics.com</td>\n",
       "      <td>4.690218</td>\n",
       "      <td>4322</td>\n",
       "      <td>1</td>\n",
       "      <td>utmwv=5.6.8</td>\n",
       "      <td>26</td>\n",
       "    </tr>\n",
       "    <tr>\n",
       "      <th>3</th>\n",
       "      <td>doubleclick.net</td>\n",
       "      <td>4.140279</td>\n",
       "      <td>5530</td>\n",
       "      <td>1</td>\n",
       "      <td>brdim=,,0,0,1366,0,1366,768,1366,704</td>\n",
       "      <td>18</td>\n",
       "    </tr>\n",
       "    <tr>\n",
       "      <th>4</th>\n",
       "      <td>xplosion.de</td>\n",
       "      <td>4.425908</td>\n",
       "      <td>2391</td>\n",
       "      <td>1</td>\n",
       "      <td>os=Linux x86_64</td>\n",
       "      <td>13</td>\n",
       "    </tr>\n",
       "    <tr>\n",
       "      <th>5</th>\n",
       "      <td>googlesyndication.com</td>\n",
       "      <td>4.354530</td>\n",
       "      <td>6597</td>\n",
       "      <td>1</td>\n",
       "      <td>bs=1350,704</td>\n",
       "      <td>12</td>\n",
       "    </tr>\n",
       "    <tr>\n",
       "      <th>6</th>\n",
       "      <td>google-analytics.com</td>\n",
       "      <td>4.669048</td>\n",
       "      <td>3259</td>\n",
       "      <td>2</td>\n",
       "      <td>utmvp=1350x704&amp;utmwv=5.6.8</td>\n",
       "      <td>11</td>\n",
       "    </tr>\n",
       "    <tr>\n",
       "      <th>7</th>\n",
       "      <td>google-analytics.com</td>\n",
       "      <td>4.241292</td>\n",
       "      <td>2823</td>\n",
       "      <td>1</td>\n",
       "      <td>vp=1366x704</td>\n",
       "      <td>10</td>\n",
       "    </tr>\n",
       "    <tr>\n",
       "      <th>8</th>\n",
       "      <td>revsci.net</td>\n",
       "      <td>4.275331</td>\n",
       "      <td>6400</td>\n",
       "      <td>1</td>\n",
       "      <td>asidi=GUQi77m4MW7if3svnOnOuw</td>\n",
       "      <td>10</td>\n",
       "    </tr>\n",
       "    <tr>\n",
       "      <th>9</th>\n",
       "      <td>wikipedia.org</td>\n",
       "      <td>4.492287</td>\n",
       "      <td>6601</td>\n",
       "      <td>2</td>\n",
       "      <td>WMF-Last-Access=08-Mar-2017&amp;WMF-Last-Access-Gl...</td>\n",
       "      <td>9</td>\n",
       "    </tr>\n",
       "    <tr>\n",
       "      <th>10</th>\n",
       "      <td>wikipedia.org</td>\n",
       "      <td>4.492287</td>\n",
       "      <td>125</td>\n",
       "      <td>1</td>\n",
       "      <td>WMF-Last-Access-Global=08-Mar-2017</td>\n",
       "      <td>9</td>\n",
       "    </tr>\n",
       "    <tr>\n",
       "      <th>11</th>\n",
       "      <td>wikipedia.org</td>\n",
       "      <td>4.485829</td>\n",
       "      <td>266</td>\n",
       "      <td>3</td>\n",
       "      <td>GeoIP=DE:HE:Frankfurt_am_Main:50.12:8.68:v4&amp;WM...</td>\n",
       "      <td>9</td>\n",
       "    </tr>\n",
       "    <tr>\n",
       "      <th>12</th>\n",
       "      <td>outbrain.com</td>\n",
       "      <td>6.375664</td>\n",
       "      <td>4113</td>\n",
       "      <td>1</td>\n",
       "      <td>version=01001504</td>\n",
       "      <td>7</td>\n",
       "    </tr>\n",
       "  </tbody>\n",
       "</table>\n",
       "</div>"
      ],
      "text/plain": [
       "                   domain  duration  uid_id  uid_length  \\\n",
       "0    google-analytics.com  6.986901    1523           1   \n",
       "1                 ioam.de  7.121925    6361           1   \n",
       "2    google-analytics.com  4.690218    4322           1   \n",
       "3         doubleclick.net  4.140279    5530           1   \n",
       "4             xplosion.de  4.425908    2391           1   \n",
       "5   googlesyndication.com  4.354530    6597           1   \n",
       "6    google-analytics.com  4.669048    3259           2   \n",
       "7    google-analytics.com  4.241292    2823           1   \n",
       "8              revsci.net  4.275331    6400           1   \n",
       "9           wikipedia.org  4.492287    6601           2   \n",
       "10          wikipedia.org  4.492287     125           1   \n",
       "11          wikipedia.org  4.485829     266           3   \n",
       "12           outbrain.com  6.375664    4113           1   \n",
       "\n",
       "                                              bad_uid  session_size  \n",
       "0                                         vp=1350x704            39  \n",
       "1                                           id=gc5lmf            31  \n",
       "2                                         utmwv=5.6.8            26  \n",
       "3                brdim=,,0,0,1366,0,1366,768,1366,704            18  \n",
       "4                                     os=Linux x86_64            13  \n",
       "5                                         bs=1350,704            12  \n",
       "6                          utmvp=1350x704&utmwv=5.6.8            11  \n",
       "7                                         vp=1366x704            10  \n",
       "8                        asidi=GUQi77m4MW7if3svnOnOuw            10  \n",
       "9   WMF-Last-Access=08-Mar-2017&WMF-Last-Access-Gl...             9  \n",
       "10                 WMF-Last-Access-Global=08-Mar-2017             9  \n",
       "11  GeoIP=DE:HE:Frankfurt_am_Main:50.12:8.68:v4&WM...             9  \n",
       "12                                   version=01001504             7  "
      ]
     },
     "execution_count": 18,
     "metadata": {},
     "output_type": "execute_result"
    }
   ],
   "source": [
    "uid_rankings[2].where('session_size > 5')\\\n",
    "    .select('domain', 'duration', 'uid_id', 'uid_length', 'bad_uid', 'session_size').toPandas()[:20]"
   ]
  },
  {
   "cell_type": "code",
   "execution_count": 19,
   "metadata": {
    "collapsed": false
   },
   "outputs": [
    {
     "data": {
      "text/html": [
       "<div>\n",
       "<table border=\"1\" class=\"dataframe\">\n",
       "  <thead>\n",
       "    <tr style=\"text-align: right;\">\n",
       "      <th></th>\n",
       "      <th>domain</th>\n",
       "      <th>duration</th>\n",
       "      <th>uid_id</th>\n",
       "      <th>uid_length</th>\n",
       "      <th>bad_uid</th>\n",
       "      <th>session_size</th>\n",
       "    </tr>\n",
       "  </thead>\n",
       "  <tbody>\n",
       "    <tr>\n",
       "      <th>0</th>\n",
       "      <td>google.com</td>\n",
       "      <td>6.424782</td>\n",
       "      <td>4169</td>\n",
       "      <td>1</td>\n",
       "      <td>NID=98=zmTRbIvo4Do-mFybpKxdJeHeK1_VOZud1B4ivJx...</td>\n",
       "      <td>54</td>\n",
       "    </tr>\n",
       "    <tr>\n",
       "      <th>1</th>\n",
       "      <td>cloudflare.com</td>\n",
       "      <td>6.781932</td>\n",
       "      <td>3824</td>\n",
       "      <td>1</td>\n",
       "      <td>__cfduid=d4b0d34c2c6adba754c1cdce7de1ce4881488...</td>\n",
       "      <td>50</td>\n",
       "    </tr>\n",
       "    <tr>\n",
       "      <th>2</th>\n",
       "      <td>youtube.com</td>\n",
       "      <td>6.255112</td>\n",
       "      <td>6882</td>\n",
       "      <td>1</td>\n",
       "      <td>VISITOR_INFO1_LIVE=bhIB4TrE6ao</td>\n",
       "      <td>43</td>\n",
       "    </tr>\n",
       "    <tr>\n",
       "      <th>3</th>\n",
       "      <td>youtube.com</td>\n",
       "      <td>5.354347</td>\n",
       "      <td>2417</td>\n",
       "      <td>2</td>\n",
       "      <td>CONSENT=WP.25ddda&amp;VISITOR_INFO1_LIVE=bhIB4TrE6ao</td>\n",
       "      <td>37</td>\n",
       "    </tr>\n",
       "    <tr>\n",
       "      <th>4</th>\n",
       "      <td>youtube.com</td>\n",
       "      <td>5.351037</td>\n",
       "      <td>6459</td>\n",
       "      <td>3</td>\n",
       "      <td>CONSENT=WP.25ddda&amp;PREF=f1=50000000&amp;f5=30&amp;VISIT...</td>\n",
       "      <td>37</td>\n",
       "    </tr>\n",
       "    <tr>\n",
       "      <th>5</th>\n",
       "      <td>wikipedia.org</td>\n",
       "      <td>6.674378</td>\n",
       "      <td>6156</td>\n",
       "      <td>2</td>\n",
       "      <td>WMF-Last-Access=08-Mar-2017&amp;WMF-Last-Access-Gl...</td>\n",
       "      <td>25</td>\n",
       "    </tr>\n",
       "    <tr>\n",
       "      <th>6</th>\n",
       "      <td>wikipedia.org</td>\n",
       "      <td>6.674378</td>\n",
       "      <td>133</td>\n",
       "      <td>1</td>\n",
       "      <td>WMF-Last-Access-Global=08-Mar-2017</td>\n",
       "      <td>25</td>\n",
       "    </tr>\n",
       "    <tr>\n",
       "      <th>7</th>\n",
       "      <td>wikipedia.org</td>\n",
       "      <td>6.674378</td>\n",
       "      <td>5759</td>\n",
       "      <td>3</td>\n",
       "      <td>GeoIP=DE:HE:Frankfurt_am_Main:50.12:8.68:v4&amp;WM...</td>\n",
       "      <td>25</td>\n",
       "    </tr>\n",
       "    <tr>\n",
       "      <th>8</th>\n",
       "      <td>t-online.de</td>\n",
       "      <td>3.886431</td>\n",
       "      <td>7038</td>\n",
       "      <td>1</td>\n",
       "      <td>wetterimuni=K06412000</td>\n",
       "      <td>13</td>\n",
       "    </tr>\n",
       "    <tr>\n",
       "      <th>9</th>\n",
       "      <td>otto.de</td>\n",
       "      <td>5.640369</td>\n",
       "      <td>3450</td>\n",
       "      <td>4</td>\n",
       "      <td>BrowserId=99afaaf1-7e62-4864-8b27-e67695b0a6e0...</td>\n",
       "      <td>9</td>\n",
       "    </tr>\n",
       "    <tr>\n",
       "      <th>10</th>\n",
       "      <td>otto.de</td>\n",
       "      <td>5.641279</td>\n",
       "      <td>2615</td>\n",
       "      <td>3</td>\n",
       "      <td>BrowserId=99afaaf1-7e62-4864-8b27-e67695b0a6e0...</td>\n",
       "      <td>9</td>\n",
       "    </tr>\n",
       "    <tr>\n",
       "      <th>11</th>\n",
       "      <td>ui-portal.de</td>\n",
       "      <td>5.676777</td>\n",
       "      <td>2024</td>\n",
       "      <td>1</td>\n",
       "      <td>wa=eb6df5740bb990da4f5f619dceb53117</td>\n",
       "      <td>8</td>\n",
       "    </tr>\n",
       "    <tr>\n",
       "      <th>12</th>\n",
       "      <td>otto.de</td>\n",
       "      <td>5.637607</td>\n",
       "      <td>6018</td>\n",
       "      <td>5</td>\n",
       "      <td>BrowserId=99afaaf1-7e62-4864-8b27-e67695b0a6e0...</td>\n",
       "      <td>8</td>\n",
       "    </tr>\n",
       "    <tr>\n",
       "      <th>13</th>\n",
       "      <td>otto.de</td>\n",
       "      <td>5.637934</td>\n",
       "      <td>2032</td>\n",
       "      <td>6</td>\n",
       "      <td>BrowserId=99afaaf1-7e62-4864-8b27-e67695b0a6e0...</td>\n",
       "      <td>8</td>\n",
       "    </tr>\n",
       "    <tr>\n",
       "      <th>14</th>\n",
       "      <td>t-online.de</td>\n",
       "      <td>2.147742</td>\n",
       "      <td>2005</td>\n",
       "      <td>2</td>\n",
       "      <td>wetterimuni=K06412000&amp;xtvrn=$463005$</td>\n",
       "      <td>8</td>\n",
       "    </tr>\n",
       "    <tr>\n",
       "      <th>15</th>\n",
       "      <td>youtube.com</td>\n",
       "      <td>0.903611</td>\n",
       "      <td>7005</td>\n",
       "      <td>2</td>\n",
       "      <td>PREF=f1=50000000&amp;VISITOR_INFO1_LIVE=bhIB4TrE6ao</td>\n",
       "      <td>8</td>\n",
       "    </tr>\n",
       "    <tr>\n",
       "      <th>16</th>\n",
       "      <td>technical-service.net</td>\n",
       "      <td>3.009326</td>\n",
       "      <td>3039</td>\n",
       "      <td>1</td>\n",
       "      <td>technical-service=79a8fd48.54a392d8d243b</td>\n",
       "      <td>8</td>\n",
       "    </tr>\n",
       "    <tr>\n",
       "      <th>17</th>\n",
       "      <td>otto.de</td>\n",
       "      <td>5.640331</td>\n",
       "      <td>469</td>\n",
       "      <td>5</td>\n",
       "      <td>BrowserId=99afaaf1-7e62-4864-8b27-e67695b0a6e0...</td>\n",
       "      <td>8</td>\n",
       "    </tr>\n",
       "    <tr>\n",
       "      <th>18</th>\n",
       "      <td>otto.de</td>\n",
       "      <td>5.303748</td>\n",
       "      <td>4136</td>\n",
       "      <td>6</td>\n",
       "      <td>BrowserId=99afaaf1-7e62-4864-8b27-e67695b0a6e0...</td>\n",
       "      <td>7</td>\n",
       "    </tr>\n",
       "    <tr>\n",
       "      <th>19</th>\n",
       "      <td>uimserv.net</td>\n",
       "      <td>5.480575</td>\n",
       "      <td>1692</td>\n",
       "      <td>1</td>\n",
       "      <td>NGUserID=ac13e4b3-10080-1488973208-9</td>\n",
       "      <td>7</td>\n",
       "    </tr>\n",
       "  </tbody>\n",
       "</table>\n",
       "</div>"
      ],
      "text/plain": [
       "                   domain  duration  uid_id  uid_length  \\\n",
       "0              google.com  6.424782    4169           1   \n",
       "1          cloudflare.com  6.781932    3824           1   \n",
       "2             youtube.com  6.255112    6882           1   \n",
       "3             youtube.com  5.354347    2417           2   \n",
       "4             youtube.com  5.351037    6459           3   \n",
       "5           wikipedia.org  6.674378    6156           2   \n",
       "6           wikipedia.org  6.674378     133           1   \n",
       "7           wikipedia.org  6.674378    5759           3   \n",
       "8             t-online.de  3.886431    7038           1   \n",
       "9                 otto.de  5.640369    3450           4   \n",
       "10                otto.de  5.641279    2615           3   \n",
       "11           ui-portal.de  5.676777    2024           1   \n",
       "12                otto.de  5.637607    6018           5   \n",
       "13                otto.de  5.637934    2032           6   \n",
       "14            t-online.de  2.147742    2005           2   \n",
       "15            youtube.com  0.903611    7005           2   \n",
       "16  technical-service.net  3.009326    3039           1   \n",
       "17                otto.de  5.640331     469           5   \n",
       "18                otto.de  5.303748    4136           6   \n",
       "19            uimserv.net  5.480575    1692           1   \n",
       "\n",
       "                                              bad_uid  session_size  \n",
       "0   NID=98=zmTRbIvo4Do-mFybpKxdJeHeK1_VOZud1B4ivJx...            54  \n",
       "1   __cfduid=d4b0d34c2c6adba754c1cdce7de1ce4881488...            50  \n",
       "2                      VISITOR_INFO1_LIVE=bhIB4TrE6ao            43  \n",
       "3    CONSENT=WP.25ddda&VISITOR_INFO1_LIVE=bhIB4TrE6ao            37  \n",
       "4   CONSENT=WP.25ddda&PREF=f1=50000000&f5=30&VISIT...            37  \n",
       "5   WMF-Last-Access=08-Mar-2017&WMF-Last-Access-Gl...            25  \n",
       "6                  WMF-Last-Access-Global=08-Mar-2017            25  \n",
       "7   GeoIP=DE:HE:Frankfurt_am_Main:50.12:8.68:v4&WM...            25  \n",
       "8                               wetterimuni=K06412000            13  \n",
       "9   BrowserId=99afaaf1-7e62-4864-8b27-e67695b0a6e0...             9  \n",
       "10  BrowserId=99afaaf1-7e62-4864-8b27-e67695b0a6e0...             9  \n",
       "11                wa=eb6df5740bb990da4f5f619dceb53117             8  \n",
       "12  BrowserId=99afaaf1-7e62-4864-8b27-e67695b0a6e0...             8  \n",
       "13  BrowserId=99afaaf1-7e62-4864-8b27-e67695b0a6e0...             8  \n",
       "14               wetterimuni=K06412000&xtvrn=$463005$             8  \n",
       "15    PREF=f1=50000000&VISITOR_INFO1_LIVE=bhIB4TrE6ao             8  \n",
       "16           technical-service=79a8fd48.54a392d8d243b             8  \n",
       "17  BrowserId=99afaaf1-7e62-4864-8b27-e67695b0a6e0...             8  \n",
       "18  BrowserId=99afaaf1-7e62-4864-8b27-e67695b0a6e0...             7  \n",
       "19               NGUserID=ac13e4b3-10080-1488973208-9             7  "
      ]
     },
     "execution_count": 19,
     "metadata": {},
     "output_type": "execute_result"
    }
   ],
   "source": [
    "uid_rankings[3].where('session_size > 5')\\\n",
    "    .select('domain', 'duration', 'uid_id', 'uid_length', 'bad_uid', 'session_size').toPandas()[:20]"
   ]
  },
  {
   "cell_type": "code",
   "execution_count": null,
   "metadata": {
    "collapsed": true
   },
   "outputs": [],
   "source": [
    "# concat uid rankings and box plot"
   ]
  },
  {
   "cell_type": "code",
   "execution_count": null,
   "metadata": {
    "collapsed": true
   },
   "outputs": [],
   "source": [
    "# box plot uid entropy (x reach?)"
   ]
  },
  {
   "cell_type": "code",
   "execution_count": null,
   "metadata": {
    "collapsed": true
   },
   "outputs": [],
   "source": []
  }
 ],
 "metadata": {
  "kernelspec": {
   "display_name": "Python 3",
   "language": "python",
   "name": "python3"
  },
  "language_info": {
   "codemirror_mode": {
    "name": "ipython",
    "version": 3
   },
   "file_extension": ".py",
   "mimetype": "text/x-python",
   "name": "python",
   "nbconvert_exporter": "python",
   "pygments_lexer": "ipython3",
   "version": "3.5.2"
  }
 },
 "nbformat": 4,
 "nbformat_minor": 2
}
